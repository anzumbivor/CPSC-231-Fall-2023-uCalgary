{
 "cells": [
  {
   "cell_type": "markdown",
   "id": "f4b7b632",
   "metadata": {},
   "source": [
    "# If Statement"
   ]
  },
  {
   "cell_type": "code",
   "execution_count": 5,
   "id": "fd9cbf86",
   "metadata": {},
   "outputs": [
    {
     "name": "stdout",
     "output_type": "stream",
     "text": [
      "Thanks for playing\n"
     ]
    }
   ],
   "source": [
    "secretNumber = 7\n",
    "guess = int(input(\"Guess the number between one and ten: \"))\n",
    "\n",
    "if(secretNumber == guess):\n",
    "    print(\"Correct!\")\n",
    "\n",
    "print(\"Thanks for playing\")"
   ]
  },
  {
   "cell_type": "code",
   "execution_count": 2,
   "id": "0305412c",
   "metadata": {},
   "outputs": [
    {
     "name": "stdout",
     "output_type": "stream",
     "text": [
      "End of Program !!\n"
     ]
    }
   ],
   "source": [
    "age = int(input(\"Enter your age (must be > 0):\"))\n",
    "\n",
    "if (age <= 17):\n",
    "    print (\"You are underage!\")\n",
    "    print (\"Better luck next time!\")\n",
    "\n",
    "print(\"End of Program !!\")"
   ]
  },
  {
   "cell_type": "markdown",
   "id": "a0b38738",
   "metadata": {},
   "source": [
    "# if-else"
   ]
  },
  {
   "cell_type": "code",
   "execution_count": 5,
   "id": "a5ce6361",
   "metadata": {},
   "outputs": [
    {
     "name": "stdout",
     "output_type": "stream",
     "text": [
      "Guess the number between one and ten: 10\n",
      "Incorrect\n",
      "Thanks for playing\n"
     ]
    }
   ],
   "source": [
    "secretNumber = 7\n",
    "guess = int(input(\"Guess the number between one and ten: \"))\n",
    "\n",
    "if(secretNumber == guess):\n",
    "    print(\"Correct!\")\n",
    "\n",
    "else:\n",
    "    print(\"Incorrect\")\n",
    "\n",
    "print(\"Thanks for playing\")"
   ]
  },
  {
   "cell_type": "markdown",
   "id": "3ef48153",
   "metadata": {},
   "source": [
    "# if-elif-else"
   ]
  },
  {
   "cell_type": "code",
   "execution_count": 8,
   "id": "cba03cbe",
   "metadata": {},
   "outputs": [
    {
     "name": "stdout",
     "output_type": "stream",
     "text": [
      "10\n",
      "10\n",
      "numbers are equal\n"
     ]
    }
   ],
   "source": [
    "x = int(input())\n",
    "y = int(input())\n",
    "\n",
    "if x > y:\n",
    "    print(x, \"is greater than\", y)\n",
    "elif x < y:\n",
    "    print(y, \"is greater than\", x)\n",
    "else:\n",
    "    print(\"numbers are equal\")"
   ]
  },
  {
   "cell_type": "code",
   "execution_count": 3,
   "id": "fddf2e8a",
   "metadata": {},
   "outputs": [
    {
     "name": "stdout",
     "output_type": "stream",
     "text": [
      "\"\n",
      "GAME OPTIONS\n",
      "------------\n",
      "(a)dd a pre-generated player\n",
      "(c)reate new player\n",
      "(p)urge player entirely from game (gone forever)\n",
      "(r)emove existing player (player information is saved)\n",
      "(q)uit game\n",
      "\n",
      "Quiting game, thank you and come again.\n"
     ]
    }
   ],
   "source": [
    "# Author:  James Tam\n",
    "# Version: September 21, 2021\n",
    "\n",
    "# Learning objectives:\n",
    "# 1) Using if-else with mutually exclusive conditions (only 0 or 1 can be true)\n",
    "# 2) Setting up text menu options that logically relate to the feature being\n",
    "#    invoked. (Opposed to arbitrary 0 = add new player, 2 = remove player).\n",
    "# Note this program is not complete (it would beyond the scope of a 1st year\n",
    "# course to implement a full role playing game).\n",
    "\n",
    "print(\"\"\"\"\n",
    "GAME OPTIONS\n",
    "------------\n",
    "(a)dd a pre-generated player\n",
    "(c)reate new player\n",
    "(p)urge player entirely from game (gone forever)\n",
    "(r)emove existing player (player information is saved)\n",
    "(q)uit game\n",
    "\"\"\")\n",
    "menuSelection = input(\"Selection: \")\n",
    "\n",
    "if (menuSelection == \"a\"):\n",
    "    print(\"Adding player.\")\n",
    "elif (menuSelection == \"c\"):\n",
    "    print(\"Creating new player.\")\n",
    "elif (menuSelection == \"p\"):\n",
    "    print(\"Caution: A purged player will be gone forever and not retrievable.\")\n",
    "    print(\"Are you sure you want to really do this?\")\n",
    "elif (menuSelection == \"r\"):\n",
    "    print(\"Removing player and saving current stats.\")\n",
    "elif (menuSelection == \"q\"):\n",
    "    print(\"Quiting game, thank you and come again.\")\n",
    "#A big advantage of using an elif over multiple IFs\n",
    "else: \n",
    "    print(\"Selection must be one of 'a', 'c', 'p', 'r', 'q'\")\n"
   ]
  },
  {
   "cell_type": "markdown",
   "id": "ba7f4345",
   "metadata": {},
   "source": [
    "# Nesting"
   ]
  },
  {
   "cell_type": "code",
   "execution_count": 4,
   "id": "a437d014",
   "metadata": {},
   "outputs": [
    {
     "name": "stdout",
     "output_type": "stream",
     "text": [
      "You are alive!\n",
      "You are olds\n",
      "End of program !!\n"
     ]
    }
   ],
   "source": [
    "age = int(input(\"Enter your age (must be an integer):\"))\n",
    "\n",
    "if age > 0:\n",
    "    print(\"You are alive!\")\n",
    "    if age <= 17:\n",
    "        print(\"Your are young\")\n",
    "        \n",
    "    elif age == 18:\n",
    "        print(\"Congratulations, you are 18!\")\n",
    "    \n",
    "    else:\n",
    "        print(\"You are olds\")\n",
    "        if age >= 100:\n",
    "            print(\"you are a centenarian\")\n",
    "            \n",
    "else:\n",
    "    print(\"You aren't alive\")\n",
    "    \n",
    "print(\"End of program !!\")\n",
    "        \n",
    "        "
   ]
  },
  {
   "cell_type": "code",
   "execution_count": null,
   "id": "c892df10",
   "metadata": {},
   "outputs": [],
   "source": []
  },
  {
   "cell_type": "code",
   "execution_count": null,
   "id": "665eccc3",
   "metadata": {},
   "outputs": [],
   "source": []
  }
 ],
 "metadata": {
  "kernelspec": {
   "display_name": "Python 3 (ipykernel)",
   "language": "python",
   "name": "python3"
  },
  "language_info": {
   "codemirror_mode": {
    "name": "ipython",
    "version": 3
   },
   "file_extension": ".py",
   "mimetype": "text/x-python",
   "name": "python",
   "nbconvert_exporter": "python",
   "pygments_lexer": "ipython3",
   "version": "3.9.7"
  }
 },
 "nbformat": 4,
 "nbformat_minor": 5
}
