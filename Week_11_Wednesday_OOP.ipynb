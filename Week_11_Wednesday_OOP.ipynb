{
 "cells": [
  {
   "cell_type": "markdown",
   "id": "371beb02",
   "metadata": {},
   "source": [
    "- __Author__ = \"Fahim Anzum\"\n",
    "- __Last updated__ = \"November 19, 2023\"\n",
    "- __Email__ = \"fahim.anzum@ucalgary.ca\"\n",
    "- __Course ID__ = \"CPSC 231\"\n",
    "- __Course name__ = \"Introduction to Computer Science for Computer Science Majors I\"\n",
    "- __Semester__ = \"Fall 2023\""
   ]
  },
  {
   "cell_type": "markdown",
   "id": "157c6e62",
   "metadata": {},
   "source": [
    "# Encapsulation"
   ]
  },
  {
   "cell_type": "code",
   "execution_count": 37,
   "id": "60593ace",
   "metadata": {},
   "outputs": [
    {
     "name": "stdout",
     "output_type": "stream",
     "text": [
      "Account balance:  1000\n",
      "Enter the deposit amount: -100\n",
      "Deposit amount must be greater than zero!\n",
      "Enter the deposit amount: 0\n",
      "Deposit amount must be greater than zero!\n",
      "Enter the deposit amount: 2000\n",
      "Account balance:  3000.0\n",
      "Enter the amount to be withdrawn: 10000\n",
      "Not sufficient balance!\n",
      "Account balance:  3000.0\n"
     ]
    }
   ],
   "source": [
    "class BankAccount:\n",
    "    def __init__(self, balance):\n",
    "        self._balance = balance\n",
    "        \n",
    "    def get_balance(self):\n",
    "        return self._balance\n",
    "    \n",
    "    def deposit(self):\n",
    "        deposit_complete = False\n",
    "        while (deposit_complete != True):\n",
    "            deposit_amount = float(input('Enter the deposit amount: '))\n",
    "            if (deposit_amount > 0):\n",
    "                self._balance+=deposit_amount\n",
    "                deposit_complete = True\n",
    "            else:\n",
    "                print('Deposit amount must be greater than zero!')\n",
    "        \n",
    "    def withdraw(self):\n",
    "        withdraw_amount = float(input('Enter the amount to be withdrawn: '))\n",
    "        if ((withdraw_amount > 0)  and (withdraw_amount <= self._balance)):\n",
    "            self._balance-=withdraw_amount\n",
    "        else:\n",
    "            print('Not sufficient balance!')\n",
    "            \n",
    "            \n",
    "# Example usage\n",
    "account = BankAccount(balance = 1000)\n",
    "print('Account balance: ', account.get_balance())  # Output: 1000\n",
    "\n",
    "account.deposit()\n",
    "print('Account balance: ', account.get_balance())\n",
    "\n",
    "account.withdraw()\n",
    "print('Account balance: ', account.get_balance())"
   ]
  },
  {
   "cell_type": "markdown",
   "id": "6b1af056",
   "metadata": {},
   "source": [
    "In this example, the attribute _balance is marked as private, and access to it is controlled through the get_balance, deposit, and withdraw methods."
   ]
  },
  {
   "attachments": {},
   "cell_type": "markdown",
   "id": "b7df0d96",
   "metadata": {},
   "source": [
    "# Inheritance\n",
    "\n",
    "- A class can inherit from a parent class, basically getting all the variables and methods from the parent class\n",
    "- The parent class is also known as base class or super class. The child class is also known as derived class or sub class."
   ]
  },
  {
   "cell_type": "code",
   "execution_count": 28,
   "id": "92d2acd4",
   "metadata": {},
   "outputs": [],
   "source": [
    "class Student:\n",
    "\n",
    "    def __init__(self, lastName=\"\", firstName=\"\", ID=0, addr=\"\", ph=\"\"):\n",
    "        self.lastName = lastName\n",
    "        self.firstName = firstName\n",
    "        self.studentID = ID\n",
    "        self.address = addr\n",
    "        self.phone = ph\n",
    "        self.courses = {}\n",
    "\n",
    "    def changeName(self, newName):\n",
    "        self.firstName = newName\n",
    "\n",
    "    def printAddress(self):\n",
    "        print(self.address)\n",
    "\n",
    "    def addCourse(self, courseID):\n",
    "        self.courses[courseID] = \"\"\n",
    "\n",
    "    def assignGrade(self, courseID, grade):\n",
    "        self.courses[courseID] = grade\n",
    "        \n",
    "    def printGrade(self, courseID):\n",
    "        return self.courses[courseID]\n",
    "    \n",
    "    def showName(self):\n",
    "        print(self.firstName + \" \" + self.lastName)\n",
    "\n",
    "    def showAddress(self):\n",
    "        print(self.address)\n",
    "\n",
    "    def updateAddress(self, newAddress):\n",
    "        self.address = newAddress\n",
    "\n",
    "\n",
    "class UniversityStudent(Student):  # inheritance\n",
    "\n",
    "    def __init__(self, lastName, firstName):\n",
    "        super().__init__(lastName, firstName)\n",
    "        self.gpa = 0\n",
    "\n",
    "    def showGPA(self):\n",
    "        print(self.gpa)\n",
    "\n",
    "    def setGPA(self, newGPA):\n",
    "        self.gpa = newGPA"
   ]
  },
  {
   "cell_type": "code",
   "execution_count": 31,
   "id": "920016c0",
   "metadata": {},
   "outputs": [
    {
     "name": "stdout",
     "output_type": "stream",
     "text": [
      "University of Calgary\n"
     ]
    }
   ],
   "source": [
    "student = Student(lastName=\"Hudson\", firstName=\"Jonathan\", ID=0, addr=\"University of Calgary\", ph=\"123-456-7890\")\n",
    "student.printAddress()"
   ]
  },
  {
   "cell_type": "code",
   "execution_count": 32,
   "id": "0cb1a9cc",
   "metadata": {},
   "outputs": [
    {
     "name": "stdout",
     "output_type": "stream",
     "text": [
      "Fahim Anzum\n",
      "Downtown Calgary\n",
      "3.9\n",
      "4.0\n"
     ]
    }
   ],
   "source": [
    "uni_student = UniversityStudent('Anzum', 'Fahim')\n",
    "uni_student.showName() # Inheriting the method from the superclass\n",
    "uni_student.updateAddress('Downtown Calgary')\n",
    "uni_student.printAddress()\n",
    "uni_student.setGPA(3.9)\n",
    "uni_student.showGPA()\n",
    "\n",
    "uni_student.assignGrade('CPSC 231', 4.0)\n",
    "print(uni_student.printGrade('CPSC 231'))"
   ]
  },
  {
   "cell_type": "markdown",
   "id": "84b1073e",
   "metadata": {},
   "source": [
    "# Explanation:\n",
    "\n",
    "- The Student class represents a generic student with attributes such as lastName, firstName, studentID, address, phone, and courses.\n",
    "- It has methods like changeName to update the first name, printAddress to print the address, addCourse to add a course to the student's list, assignGrade to assign a grade to a course, printGrade to print the grade of a specific course, showName to print the full name, showAddress to print the address, and updateAddress to update the address.\n",
    "\n",
    "### UniversityStudent Class (Inherits from Student):\n",
    "\n",
    "- The UniversityStudent class is a subclass of Student, demonstrating inheritance (class UniversityStudent(Student):).\n",
    "- It has its own constructor that initializes the last name, first name, and also calls the constructor of the superclass using super().__init__(lastName, firstName). It ensures that the attributes defined in the Student class are properly initialized for the UniversityStudent instance. In this case, it passes lastName and firstName to the constructor of the Student class.\n",
    "- It introduces a new attribute gpa specific to university students.\n",
    "- It has methods like showGPA to print the GPA and setGPA to set a new GPA."
   ]
  },
  {
   "cell_type": "markdown",
   "id": "27ec43c6",
   "metadata": {},
   "source": [
    "## Example 2"
   ]
  },
  {
   "cell_type": "code",
   "execution_count": 35,
   "id": "22f57937",
   "metadata": {},
   "outputs": [
    {
     "name": "stdout",
     "output_type": "stream",
     "text": [
      "Hi, I'm Alice, 20 years old. I am a student.\n",
      "Alice is studying Computer Science.\n",
      "Hi, I'm Dr. Smith, 45 years old. I am a professor.\n",
      "Dr. Smith is teaching in the Computer Science department.\n",
      "Hi, I'm John, 30 years old. I am a employee.\n",
      "John is working as a Administrative Assistant.\n"
     ]
    }
   ],
   "source": [
    "class UniversityPerson:\n",
    "    def __init__(self, name, age, role):\n",
    "        self.name = name\n",
    "        self.age = age\n",
    "        self.role = role\n",
    "\n",
    "    def introduce(self):\n",
    "        print(f\"Hi, I'm {self.name}, {self.age} years old. I am a {self.role}.\")\n",
    "\n",
    "class Student(UniversityPerson):\n",
    "    def __init__(self, name, age, major):\n",
    "        super().__init__(name, age, role=\"student\")\n",
    "        self.major = major\n",
    "\n",
    "    def study(self):\n",
    "        print(f\"{self.name} is studying {self.major}.\")\n",
    "\n",
    "class Professor(UniversityPerson):\n",
    "    def __init__(self, name, age, department):\n",
    "        super().__init__(name, age, role=\"professor\")\n",
    "        self.department = department\n",
    "\n",
    "    def teach(self):\n",
    "        print(f\"{self.name} is teaching in the {self.department} department.\")\n",
    "\n",
    "class Employee(UniversityPerson):\n",
    "    def __init__(self, name, age, position):\n",
    "        super().__init__(name, age, role=\"employee\")\n",
    "        self.position = position\n",
    "\n",
    "    def work(self):\n",
    "        print(f\"{self.name} is working as a {self.position}.\")\n",
    "\n",
    "# Creating instances\n",
    "student1 = Student(name=\"Alice\", age=20, major=\"Computer Science\")\n",
    "professor1 = Professor(name=\"Dr. Smith\", age=45, department=\"Computer Science\")\n",
    "employee1 = Employee(name=\"John\", age=30, position=\"Administrative Assistant\")\n",
    "\n",
    "# Using methods\n",
    "student1.introduce()\n",
    "student1.study()\n",
    "\n",
    "professor1.introduce()\n",
    "professor1.teach()\n",
    "\n",
    "employee1.introduce()\n",
    "employee1.work()\n"
   ]
  },
  {
   "cell_type": "markdown",
   "id": "fbd8f1a8",
   "metadata": {},
   "source": [
    "### Explanation\n",
    "\n",
    "- The UniversityPerson class is a generic class representing any person at the university with attributes like name, age, and role. It has a method introduce to introduce the person.\n",
    "\n",
    "- The Student, Professor, and Employee classes are subclasses of UniversityPerson. They inherit from UniversityPerson and have their own attributes and methods specific to their roles.\n",
    "\n",
    "- The super().__init__(name, age, role=\"student\") line in the Student class calls the constructor of the superclass (UniversityPerson), ensuring that the common attributes are properly initialized before adding the specific attributes of the Student class.\n",
    "\n",
    "- Instances of Student, Professor, and Employee can use methods from both the UniversityPerson class and their respective subclasses, demonstrating the concept of inheritance."
   ]
  },
  {
   "cell_type": "markdown",
   "id": "48027330",
   "metadata": {},
   "source": [
    "# Example 3 (Multilevel Interitance)"
   ]
  },
  {
   "cell_type": "code",
   "execution_count": 36,
   "id": "f9f8c203",
   "metadata": {},
   "outputs": [
    {
     "name": "stdout",
     "output_type": "stream",
     "text": [
      "Generic Vehicle\n",
      "Toyota Camry\n",
      "Toyota Camry is driving. Fuel type: Gasoline\n",
      "Tesla Model S\n",
      "Tesla Model S is driving. Fuel type: Electric\n",
      "Charging Tesla Model S. Battery capacity: 75 kWh\n"
     ]
    }
   ],
   "source": [
    "class Vehicle:\n",
    "    def __init__(self, brand, model):\n",
    "        self.brand = brand\n",
    "        self.model = model\n",
    "\n",
    "    def display_info(self):\n",
    "        print(f\"{self.brand} {self.model}\")\n",
    "\n",
    "class Car(Vehicle):\n",
    "    def __init__(self, brand, model, fuel_type):\n",
    "        super().__init__(brand, model)\n",
    "        self.fuel_type = fuel_type\n",
    "\n",
    "    def drive(self):\n",
    "        print(f\"{self.brand} {self.model} is driving. Fuel type: {self.fuel_type}\")\n",
    "\n",
    "class ElectricCar(Car):\n",
    "    def __init__(self, brand, model, battery_capacity):\n",
    "        super().__init__(brand, model, fuel_type=\"Electric\")\n",
    "        self.battery_capacity = battery_capacity\n",
    "\n",
    "    def charge(self):\n",
    "        print(f\"Charging {self.brand} {self.model}. Battery capacity: {self.battery_capacity} kWh\")\n",
    "\n",
    "# Creating instances\n",
    "vehicle1 = Vehicle(brand=\"Generic\", model=\"Vehicle\")\n",
    "car1 = Car(brand=\"Toyota\", model=\"Camry\", fuel_type=\"Gasoline\")\n",
    "electric_car1 = ElectricCar(brand=\"Tesla\", model=\"Model S\", battery_capacity=75)\n",
    "\n",
    "# Using methods\n",
    "vehicle1.display_info()\n",
    "\n",
    "car1.display_info()\n",
    "car1.drive()\n",
    "\n",
    "electric_car1.display_info()\n",
    "electric_car1.drive()\n",
    "electric_car1.charge()"
   ]
  }
 ],
 "metadata": {
  "kernelspec": {
   "display_name": "Python 3 (ipykernel)",
   "language": "python",
   "name": "python3"
  },
  "language_info": {
   "codemirror_mode": {
    "name": "ipython",
    "version": 3
   },
   "file_extension": ".py",
   "mimetype": "text/x-python",
   "name": "python",
   "nbconvert_exporter": "python",
   "pygments_lexer": "ipython3",
   "version": "3.9.7"
  }
 },
 "nbformat": 4,
 "nbformat_minor": 5
}
