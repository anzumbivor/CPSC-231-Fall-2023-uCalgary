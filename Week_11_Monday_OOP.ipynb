{
 "cells": [
  {
   "cell_type": "code",
   "execution_count": 17,
   "id": "cd33294d",
   "metadata": {},
   "outputs": [
    {
     "name": "stdout",
     "output_type": "stream",
     "text": [
      "Alice 25\n",
      "Bob 20\n",
      "Hello, I'm Alice and I'm 25 years old.\n",
      "Hello, I'm Bob and I'm 20 years old.\n"
     ]
    }
   ],
   "source": [
    "class Person:\n",
    "    def __init__(self, name, age):\n",
    "        \n",
    "        # these are the local variables for any object of this class\n",
    "        \n",
    "        # These are called class attributes\n",
    "        self.Name = name \n",
    "        self.Age = age\n",
    "    \n",
    "    # This is a method of this class\n",
    "    def greet(self):\n",
    "        return f\"Hello, I'm {self.Name} and I'm {self.Age} years old.\"\n",
    "    \n",
    "# Now we create different objects of the Person class\n",
    "# person1 is an object of Person class. person1's Name is \"Alice\" and Age is 25\n",
    "# Similarly, person2 is another object of Person class. person1's Name is \"Bob\" and Age is 20\n",
    "# Attributes of person1 and person2 are Name and Age, NOT name and age. These are parameters\n",
    "# For simplicity, use attribute name same as parameter\n",
    "\n",
    "person1 = Person(\"Alice\", 25)\n",
    "person2 = Person(\"Bob\", 20)\n",
    "\n",
    "# Printing information of class objects\n",
    "print(person1.Name, person1.Age)\n",
    "print(person2.Name, person2.Age)\n",
    "\n",
    "# Accessing the method for each object\n",
    "print(person1.greet())\n",
    "print(person2.greet())"
   ]
  },
  {
   "cell_type": "code",
   "execution_count": 2,
   "id": "9feb76b0",
   "metadata": {},
   "outputs": [
    {
     "name": "stdout",
     "output_type": "stream",
     "text": [
      "Natural Titanium\n",
      "Samsung Galaxy S21 is making a call.\n",
      "Google Pixel 4 is sending a text.\n"
     ]
    }
   ],
   "source": [
    "# Class: Phone\n",
    "class Phone:\n",
    "    def __init__(self, brand, model, year, color):\n",
    "        self.Brand = brand\n",
    "        self.Model = model\n",
    "        self.Year = year\n",
    "        self.Color = color\n",
    "\n",
    "    def make_call(self):\n",
    "        return f\"{self.Brand} {self.Model} is making a call.\"\n",
    "\n",
    "    def send_text(self):\n",
    "        return f\"{self.Brand} {self.Model} is sending a text.\"\n",
    "\n",
    "# Instances of the Phone class\n",
    "iphone = Phone(brand=\"Apple\", model=\"iPhone 15 Pro Max\", year=2023, color=\"Natural Titanium\")\n",
    "samsung = Phone(brand=\"Samsung\", model=\"Galaxy S21\", year=2021, color=\"Black\")\n",
    "google_pixel = Phone(brand=\"Google\", model=\"Pixel 4\", year=2019, color=\"White\")\n",
    "\n",
    "# Accessing properties and methods\n",
    "print(iphone.Color)       # Output: Silver\n",
    "print(samsung.make_call()) # Output: Samsung Galaxy S21 is making a call.\n",
    "print(google_pixel.send_text())  # Output: Google Pixel 4 is sending a text."
   ]
  },
  {
   "cell_type": "code",
   "execution_count": 3,
   "id": "8cf97c20",
   "metadata": {},
   "outputs": [
    {
     "name": "stdout",
     "output_type": "stream",
     "text": [
      "Alice got a grade of 4.0 in Math.\n",
      "Alice got a grade of 3.75 in History.\n",
      "Alice's average grade is 3.88.\n"
     ]
    }
   ],
   "source": [
    "class Student:\n",
    "    def __init__(self, name, ucid, major):\n",
    "        self.name = name\n",
    "        self.ucid = ucid\n",
    "        self.major = major\n",
    "        self.grades = {}\n",
    "        \n",
    "    def record_grade(self, subject, grade):\n",
    "        \"\"\"Record the grade for a subject.\"\"\"\n",
    "        self.grades[subject] = grade\n",
    "        return f\"{self.name} got a grade of {grade} in {subject}.\"\n",
    "    \n",
    "    def get_average_grade(self):\n",
    "        \"\"\"Calculate and return the average grade of the student.\"\"\"\n",
    "        if not self.grades:\n",
    "            return f\"{self.name} has no grades yet.\"\n",
    "\n",
    "        average_grade = sum(self.grades.values()) / len(self.grades)\n",
    "        return f\"{self.name}'s average grade is {average_grade:.2f}.\"\n",
    "    \n",
    "# Instance of the Student class\n",
    "alice = Student(name = \"Alice\", ucid = 1234, major = \"CS\")\n",
    "\n",
    "# Using the methods\n",
    "print(alice.record_grade(subject = \"Math\", grade = 4.0))  # Output: Alice got a grade of 85 in Math.\n",
    "print(alice.record_grade(subject = \"History\", grade = 3.75))  # Output: Alice got a grade of 92 in History.\n",
    "print(alice.get_average_grade())  # Output: Alice's average grade is 3.88."
   ]
  },
  {
   "cell_type": "markdown",
   "id": "a0a7c87f",
   "metadata": {},
   "source": [
    "Each instance or object of Student class needs name, ucid, and major parameters. Otherwise there will be error."
   ]
  },
  {
   "cell_type": "code",
   "execution_count": 5,
   "id": "8c25cce3",
   "metadata": {},
   "outputs": [
    {
     "ename": "TypeError",
     "evalue": "__init__() missing 2 required positional arguments: 'ucid' and 'major'",
     "output_type": "error",
     "traceback": [
      "\u001b[1;31m---------------------------------------------------------------------------\u001b[0m",
      "\u001b[1;31mTypeError\u001b[0m                                 Traceback (most recent call last)",
      "\u001b[1;32m~\\AppData\\Local\\Temp/ipykernel_5732/1765731787.py\u001b[0m in \u001b[0;36m<module>\u001b[1;34m\u001b[0m\n\u001b[1;32m----> 1\u001b[1;33m \u001b[0mbob\u001b[0m \u001b[1;33m=\u001b[0m \u001b[0mStudent\u001b[0m\u001b[1;33m(\u001b[0m\u001b[0mname\u001b[0m \u001b[1;33m=\u001b[0m \u001b[1;34m\"Bob\"\u001b[0m\u001b[1;33m)\u001b[0m\u001b[1;33m\u001b[0m\u001b[1;33m\u001b[0m\u001b[0m\n\u001b[0m",
      "\u001b[1;31mTypeError\u001b[0m: __init__() missing 2 required positional arguments: 'ucid' and 'major'"
     ]
    }
   ],
   "source": [
    "bob = Student(name = \"Bob\")"
   ]
  },
  {
   "cell_type": "markdown",
   "id": "21661bfa",
   "metadata": {},
   "source": [
    "In the following example, We have set default values of None for both year. When we create an instance without providing a value for year, it defaults to None. Instances with a specified value for year will use that value."
   ]
  },
  {
   "cell_type": "code",
   "execution_count": 11,
   "id": "155e5167",
   "metadata": {},
   "outputs": [
    {
     "name": "stdout",
     "output_type": "stream",
     "text": [
      "Honda CR-V 2023 50000\n",
      "Honda CR-V 2023 60000\n",
      "Toyota Rav4 None 50000\n"
     ]
    }
   ],
   "source": [
    "class Car:\n",
    "    def __init__(self, make, model, year=None):\n",
    "        self.make = make\n",
    "        self.model = model\n",
    "        self.year = year\n",
    "        self.mileage = 50000\n",
    "        \n",
    "    def set_mileage(self, new_mileage):\n",
    "        self.mileage = new_mileage\n",
    "        \n",
    "car1 = Car('Honda', 'CR-V', 2023)\n",
    "print(car1.make, car1.model, car1.year, car1.mileage)\n",
    "\n",
    "car1.set_mileage(60000)\n",
    "print(car1.make, car1.model, car1.year, car1.mileage)\n",
    "\n",
    "car2 = Car('Toyota', 'Rav4')\n",
    "print(car2.make, car2.model, car2.year, car2.mileage)\n"
   ]
  },
  {
   "cell_type": "code",
   "execution_count": null,
   "id": "48282bc1",
   "metadata": {},
   "outputs": [],
   "source": []
  }
 ],
 "metadata": {
  "kernelspec": {
   "display_name": "Python 3 (ipykernel)",
   "language": "python",
   "name": "python3"
  },
  "language_info": {
   "codemirror_mode": {
    "name": "ipython",
    "version": 3
   },
   "file_extension": ".py",
   "mimetype": "text/x-python",
   "name": "python",
   "nbconvert_exporter": "python",
   "pygments_lexer": "ipython3",
   "version": "3.9.7"
  }
 },
 "nbformat": 4,
 "nbformat_minor": 5
}
