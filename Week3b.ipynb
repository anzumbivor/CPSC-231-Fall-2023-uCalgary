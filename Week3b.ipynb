{
 "cells": [
  {
   "cell_type": "code",
   "execution_count": 9,
   "id": "0e722b49-e218-4159-aadf-028dcd9ee50a",
   "metadata": {},
   "outputs": [
    {
     "ename": "SyntaxError",
     "evalue": "invalid syntax. Perhaps you forgot a comma? (1949631777.py, line 18)",
     "output_type": "error",
     "traceback": [
      "\u001b[0;36m  Cell \u001b[0;32mIn[9], line 18\u001b[0;36m\u001b[0m\n\u001b[0;31m    print(\"in litres / 100 km: \" litres_per_100km)\u001b[0m\n\u001b[0m          ^\u001b[0m\n\u001b[0;31mSyntaxError\u001b[0m\u001b[0;31m:\u001b[0m invalid syntax. Perhaps you forgot a comma?\n"
     ]
    }
   ],
   "source": [
    "# convert miles per gallon to liters/100km\n",
    "\n",
    "miles_per_gallon = input(\"Enter miles per gallon: \")\n",
    "\n",
    "# 1 mile = 1.609344 kilometers\n",
    "km_per_gallon = 1.609344 * miles_per_gallon\n",
    "\n",
    "# 1 US gallon = 3.78541178 litres\n",
    "km_per_litre = 3.78541178 * km_per_gallon\n",
    "\n",
    "# flip litre and km\n",
    "litres_per_km = 1 / km_per_liter\n",
    "\n",
    "# calculate per 100 km\n",
    "litres_per_100km = litres_per_km * 100\n",
    "\n",
    "# output result\n",
    "print(\"in litres / 100 km: \" litres_per_100km)"
   ]
  },
  {
   "cell_type": "markdown",
   "id": "62a524d5-ec51-4a9d-a638-7f2e269ff999",
   "metadata": {},
   "source": [
    "\n",
    "Three errors\n",
    "1. : \"liter\" spellin\n",
    "2.   Last line has syntax erro\n",
    "3. d logic error: should divide in the third line of code, not multiply."
   ]
  },
  {
   "cell_type": "markdown",
   "id": "5c6b29fa",
   "metadata": {},
   "source": [
    "## Revised Code\n",
    "\n"
   ]
  },
  {
   "cell_type": "code",
   "execution_count": 6,
   "id": "3173d7c2",
   "metadata": {},
   "outputs": [
    {
     "name": "stdout",
     "output_type": "stream",
     "text": [
      "Enter miles per gallon: 20\n",
      "in litres / 100 km: 11.760729154239243\n"
     ]
    }
   ],
   "source": [
    "# Convert miles per gallon to liters/100km\n",
    "\n",
    "# Input the miles per gallon as a floating-point number\n",
    "miles_per_gallon = float(input(\"Enter miles per gallon: \"))\n",
    "\n",
    "# 1 mile = 1.609344 kilometers\n",
    "# Calculate kilometers per gallon\n",
    "km_per_gallon = 1.609344 * miles_per_gallon\n",
    "\n",
    "# 1 US gallon = 3.78541178 litres\n",
    "# Calculate kilometers per litre\n",
    "km_per_litre = km_per_gallon / 3.78541178\n",
    "\n",
    "# Calculate liters per kilometer\n",
    "litres_per_km = 1 / km_per_litre\n",
    "\n",
    "# Calculate per 100 km\n",
    "litres_per_100km = litres_per_km * 100\n",
    "\n",
    "# Output the result\n",
    "print(\"in litres / 100 km:\", litres_per_100km)\n"
   ]
  },
  {
   "cell_type": "code",
   "execution_count": null,
   "id": "2a4f6eaa",
   "metadata": {},
   "outputs": [],
   "source": []
  }
 ],
 "metadata": {
  "kernelspec": {
   "display_name": "Python 3 (ipykernel)",
   "language": "python",
   "name": "python3"
  },
  "language_info": {
   "codemirror_mode": {
    "name": "ipython",
    "version": 3
   },
   "file_extension": ".py",
   "mimetype": "text/x-python",
   "name": "python",
   "nbconvert_exporter": "python",
   "pygments_lexer": "ipython3",
   "version": "3.9.7"
  }
 },
 "nbformat": 4,
 "nbformat_minor": 5
}
