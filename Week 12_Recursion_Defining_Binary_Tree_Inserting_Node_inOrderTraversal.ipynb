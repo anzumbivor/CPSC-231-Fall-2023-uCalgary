{
 "cells": [
  {
   "cell_type": "code",
   "execution_count": 7,
   "id": "8892088c",
   "metadata": {},
   "outputs": [
    {
     "name": "stdout",
     "output_type": "stream",
     "text": [
      "2\n",
      "3\n",
      "5\n",
      "10\n",
      "12\n",
      "15\n",
      "20\n"
     ]
    }
   ],
   "source": [
    "# Node is the building block of a tree-like data structure\n",
    "# The Binary tree starts with a root Node\n",
    "# Each Node has three fields: 1) data 2) left Node 3) right Node\n",
    "# Each parent Node in a Binary Tree can have at most two child Nodes\n",
    "class Node:\n",
    "    def __init__(self, data):\n",
    "        self.left = None\n",
    "        self.right = None\n",
    "        self.data = data\n",
    "        \n",
    "    def insert_node(self, data):\n",
    "        \n",
    "        # checking if the root exists or not.\n",
    "        # if there is no root Node, it creates the root Node\n",
    "        if self.data is None:\n",
    "            self.data = data\n",
    "        \n",
    "        # if the root Node exists    \n",
    "        else:\n",
    "            # it checks if the data to be inserted is less than root or not\n",
    "            # if this condition is True, we go to the left sub-tree\n",
    "            if data < self.data:\n",
    "                # in the left sub-tree, if it is None, we add the data as a new Node\n",
    "                if self.left is None:\n",
    "                    self.left = Node(data)\n",
    "                \n",
    "                # if there are already Nodes in the left-subtree,\n",
    "                # we consider the current Node as the root of the left sub-tree\n",
    "                # and call the insert_node(data) method recursively for the left sub-tree\n",
    "                else:\n",
    "                    self.left.insert_node(data)\n",
    "            \n",
    "            # if the data to be inserted is greater than the root\n",
    "            # we go to the right sub-tree\n",
    "            elif data > self.data:\n",
    "                if self.right is None:\n",
    "                    self.right = Node(data)\n",
    "                else:\n",
    "                    self.right.insert_node(data)\n",
    "                    \n",
    "    # One way of printing Binary Tree is \"In-Order Traveral\"\n",
    "    # Traverse (visit) all nodes in the left subtree of the current node.\n",
    "    # Visit the current node.\n",
    "    # Traverse (visit) all nodes in the right subtree of the current node.\n",
    "\n",
    "    def inOrderPrint(self):\n",
    "        if self.data is not None:\n",
    "            \n",
    "            # Step 1: Traverse (visit) all nodes in the left subtree of the current node.\n",
    "            if self.left:\n",
    "                self.left.inOrderPrint()\n",
    "            \n",
    "            # Step 2: Visit the current node.\n",
    "            print(self.data)\n",
    "            \n",
    "            # Step 3: Traverse (visit) all nodes in the right subtree of the current node.\n",
    "            if self.right:\n",
    "                self.right.inOrderPrint()\n",
    "          \n",
    "\n",
    "        \n",
    "def main():\n",
    "    root = Node(10)\n",
    "    root.insert_node(3)\n",
    "    root.insert_node(15)\n",
    "    root.insert_node(5)\n",
    "    root.insert_node(2)\n",
    "    root.insert_node(12)\n",
    "    root.insert_node(20)\n",
    "\n",
    "    root.inOrderPrint()\n",
    "    \n",
    "main()"
   ]
  },
  {
   "cell_type": "code",
   "execution_count": null,
   "id": "655f866c",
   "metadata": {},
   "outputs": [],
   "source": []
  }
 ],
 "metadata": {
  "kernelspec": {
   "display_name": "Python 3 (ipykernel)",
   "language": "python",
   "name": "python3"
  },
  "language_info": {
   "codemirror_mode": {
    "name": "ipython",
    "version": 3
   },
   "file_extension": ".py",
   "mimetype": "text/x-python",
   "name": "python",
   "nbconvert_exporter": "python",
   "pygments_lexer": "ipython3",
   "version": "3.9.7"
  }
 },
 "nbformat": 4,
 "nbformat_minor": 5
}
