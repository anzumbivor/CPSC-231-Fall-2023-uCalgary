{
 "cells": [
  {
   "cell_type": "code",
   "execution_count": 37,
   "id": "529ddda2-b19c-4e2f-975a-57dd337d7421",
   "metadata": {},
   "outputs": [
    {
     "name": "stdout",
     "output_type": "stream",
     "text": [
      "\n",
      "Author: Fahim Anzum\n",
      "Course: CPSC 231\n",
      "Semester: Fall 2023\n",
      "Last modified: September 11, 2023\n",
      "\n"
     ]
    }
   ],
   "source": [
    "print(\"\"\"\n",
    "Author: Fahim Anzum\n",
    "Course: CPSC 231\n",
    "Semester: Fall 2023\n",
    "Last modified: September 11, 2023\n",
    "\"\"\")"
   ]
  },
  {
   "cell_type": "markdown",
   "id": "49dbf6d6-e192-4dfa-9674-b23a7e6ff8ec",
   "metadata": {},
   "source": [
    "# Print() to show output on screen"
   ]
  },
  {
   "cell_type": "code",
   "execution_count": 1,
   "id": "40bd8236-38c5-48e5-bd57-83082627c47b",
   "metadata": {},
   "outputs": [
    {
     "name": "stdout",
     "output_type": "stream",
     "text": [
      "Hello, Welcome to CPSC 231!\n"
     ]
    }
   ],
   "source": [
    "print(\"Hello, Welcome to CPSC 231!\")"
   ]
  },
  {
   "cell_type": "code",
   "execution_count": 3,
   "id": "4ea1cc6b-bb30-4a89-bfbf-d491e4c698b5",
   "metadata": {},
   "outputs": [
    {
     "name": "stdout",
     "output_type": "stream",
     "text": [
      "CPSC 231: Introduction to Computer Science for Computer Science Majors I\n",
      "In this course, you will learn about problem solving using basic Python programming.\n",
      "Best of luck !!\n"
     ]
    }
   ],
   "source": [
    "print(\"CPSC 231: Introduction to Computer Science for Computer Science Majors I\")\n",
    "print(\"In this course, you will learn about problem solving using basic Python programming.\")\n",
    "print(\"Best of luck !!\")"
   ]
  },
  {
   "cell_type": "markdown",
   "id": "cfe24157-5705-44d0-bdf6-569a9a18bd98",
   "metadata": {},
   "source": [
    "### Comments are lines starting with '#'"
   ]
  },
  {
   "cell_type": "code",
   "execution_count": 4,
   "id": "1a0dedde-0586-4d7e-9815-4cb063ddd87f",
   "metadata": {},
   "outputs": [],
   "source": [
    "# print(123)"
   ]
  },
  {
   "cell_type": "code",
   "execution_count": 5,
   "id": "8049a2ba-a857-42da-8451-84277257f2eb",
   "metadata": {},
   "outputs": [
    {
     "name": "stdout",
     "output_type": "stream",
     "text": [
      "123\n"
     ]
    }
   ],
   "source": [
    "# If we write the same line without '#', it will be executed\n",
    "print(123)"
   ]
  },
  {
   "cell_type": "markdown",
   "id": "0223310a-6a4b-4c64-b8a9-ff2d8f5c9b10",
   "metadata": {},
   "source": [
    "## Input: For user-input, the syntax is 'input()'"
   ]
  },
  {
   "cell_type": "code",
   "execution_count": 1,
   "id": "c1f904c8-a863-413b-b98f-963676f362bc",
   "metadata": {},
   "outputs": [
    {
     "name": "stdin",
     "output_type": "stream",
     "text": [
      " Hi, my name is Fahim. Nice to meet you.\n"
     ]
    },
    {
     "name": "stdout",
     "output_type": "stream",
     "text": [
      "End of program!\n"
     ]
    }
   ],
   "source": [
    "input()\n",
    "print(\"End of program!\")"
   ]
  },
  {
   "cell_type": "markdown",
   "id": "6576c3f9-142c-4857-9db3-14c820b0e37a",
   "metadata": {},
   "source": [
    "### In this above code snippet, the user input is not stored anywhere. To fix this issue, we can use variables. Variables act as containers to store information."
   ]
  },
  {
   "cell_type": "markdown",
   "id": "f15ee8c0-d471-4c51-a16d-de0552addbb2",
   "metadata": {},
   "source": [
    "# Variables"
   ]
  },
  {
   "cell_type": "code",
   "execution_count": 22,
   "id": "0ebaf8da-9c8f-4816-bf53-ef62296cfff4",
   "metadata": {},
   "outputs": [
    {
     "name": "stdin",
     "output_type": "stream",
     "text": [
      " Fahim\n"
     ]
    },
    {
     "name": "stdout",
     "output_type": "stream",
     "text": [
      "Fahim\n"
     ]
    }
   ],
   "source": [
    "user_name = input() # user input will be stored in the user_name variable that can be used in other parts of the program\n",
    "print(user_name)"
   ]
  },
  {
   "cell_type": "code",
   "execution_count": 5,
   "id": "e01f7cac-b5e2-4e46-89fa-473850b484af",
   "metadata": {},
   "outputs": [],
   "source": [
    "name = \"Alice\"\n",
    "# print(name)\n",
    "# print(\"name\")"
   ]
  },
  {
   "cell_type": "code",
   "execution_count": 6,
   "id": "b12e8b1a-7d84-483f-814b-82f8a1b41b47",
   "metadata": {},
   "outputs": [],
   "source": [
    "# Combining both\n",
    "# print(\"name:\", name)"
   ]
  },
  {
   "cell_type": "code",
   "execution_count": 8,
   "id": "5d4dbea6-a284-4a70-a001-04362d6887b9",
   "metadata": {},
   "outputs": [
    {
     "name": "stdout",
     "output_type": "stream",
     "text": [
      "18\n"
     ]
    }
   ],
   "source": [
    "age = 18\n",
    "print(age)"
   ]
  },
  {
   "cell_type": "markdown",
   "id": "8a159a9a-feb5-404e-b5cd-c41b8e255219",
   "metadata": {},
   "source": [
    "In the above code, name and age are two variables that store the values \"Alice\" and 18 respectively. This data can be used later in the program using the variable name as reference."
   ]
  },
  {
   "cell_type": "code",
   "execution_count": 9,
   "id": "16c4ffcc-3f96-4d7e-8bd1-5d8548f09eb3",
   "metadata": {},
   "outputs": [
    {
     "name": "stdout",
     "output_type": "stream",
     "text": [
      "Alice 18\n"
     ]
    }
   ],
   "source": [
    "print(name, age)"
   ]
  },
  {
   "cell_type": "markdown",
   "id": "3a5d00e9-28c7-499a-97ca-0f31e3390cfb",
   "metadata": {},
   "source": [
    "## Making the output more readable\n",
    "We can concatenate multiple variables and messages (strings) in a single print() using commas (,)"
   ]
  },
  {
   "cell_type": "code",
   "execution_count": 10,
   "id": "9c7dacd5-9a7b-464e-bf94-c7b3a8e2bb09",
   "metadata": {},
   "outputs": [
    {
     "name": "stdout",
     "output_type": "stream",
     "text": [
      "Alice is 18 years old!\n"
     ]
    }
   ],
   "source": [
    "print(name, 'is', age, 'years old!')"
   ]
  },
  {
   "cell_type": "markdown",
   "id": "faf6435f-c94c-4100-9311-418d5ba577cf",
   "metadata": {},
   "source": [
    "Variables can store complex arithmatic calculations too."
   ]
  },
  {
   "cell_type": "code",
   "execution_count": 12,
   "id": "fe4a3819-2ee1-45a7-a23d-5aaece0c7162",
   "metadata": {},
   "outputs": [
    {
     "name": "stdout",
     "output_type": "stream",
     "text": [
      "3.572\n"
     ]
    }
   ],
   "source": [
    "gpa = 3.3*0.32 + 4*0.5 + 2.7*0.08 + 3*0.1\n",
    "print(gpa)"
   ]
  },
  {
   "cell_type": "markdown",
   "id": "b8bcfb2b-c4f0-4c84-9917-2f711ac6e10a",
   "metadata": {},
   "source": [
    "Variables can be updated."
   ]
  },
  {
   "cell_type": "code",
   "execution_count": 13,
   "id": "ef1a8107-a6fe-44bf-bff0-ab852ba0fc49",
   "metadata": {},
   "outputs": [
    {
     "name": "stdout",
     "output_type": "stream",
     "text": [
      "4.0\n"
     ]
    }
   ],
   "source": [
    "gpa = gpa + 0.428\n",
    "print(gpa)"
   ]
  },
  {
   "cell_type": "markdown",
   "id": "b4781542-f258-4c5e-8cbf-27575c9ddcce",
   "metadata": {},
   "source": [
    "## Use of variables and constants"
   ]
  },
  {
   "cell_type": "code",
   "execution_count": 14,
   "id": "5b99f1f9-1e8f-4be3-be02-26e8e3f95116",
   "metadata": {},
   "outputs": [
    {
     "name": "stdout",
     "output_type": "stream",
     "text": [
      "Circumference of a circle with radius 5 is 31.4159\n"
     ]
    }
   ],
   "source": [
    "# Define constant\n",
    "PI = 3.14159\n",
    "\n",
    "# Define variable\n",
    "radius = 5\n",
    "\n",
    "# Use constants in calculations\n",
    "circumference = 2 * PI * radius\n",
    "print(\"Circumference of a circle with radius\", radius, \"is\", circumference)"
   ]
  },
  {
   "cell_type": "markdown",
   "id": "eccbf94a-5cfc-4968-8b8f-5ba3e48be4b0",
   "metadata": {},
   "source": [
    "# Data Types"
   ]
  },
  {
   "cell_type": "code",
   "execution_count": 11,
   "id": "00587959-09b2-46a9-bbcc-252f5dbf40da",
   "metadata": {},
   "outputs": [
    {
     "name": "stdout",
     "output_type": "stream",
     "text": [
      "25\n",
      "25.23\n",
      "University of Calgary\n",
      "True\n"
     ]
    }
   ],
   "source": [
    "integer_variable = 25 # integer\n",
    "float_variable = 25.23 # float\n",
    "string_variable = \"University of Calgary\" # string: a sequence of characters\n",
    "bool_variable = True # Boolean: True or False. It's a binary data type\n",
    "\n",
    "print(integer_variable)\n",
    "print(float_variable)\n",
    "print(string_variable)\n",
    "print(bool_variable)"
   ]
  },
  {
   "cell_type": "code",
   "execution_count": 12,
   "id": "f09b5865-b1d1-4364-bc14-66fd6cba6aa6",
   "metadata": {},
   "outputs": [
    {
     "name": "stdout",
     "output_type": "stream",
     "text": [
      "<class 'int'>\n",
      "<class 'float'>\n",
      "<class 'str'>\n",
      "<class 'bool'>\n"
     ]
    }
   ],
   "source": [
    "print(type(integer_variable))\n",
    "print(type(float_variable))\n",
    "print(type(string_variable))\n",
    "print(type(bool_variable))"
   ]
  },
  {
   "cell_type": "code",
   "execution_count": 13,
   "id": "70b76a8a-04ad-4015-851a-e95d99b95cd9",
   "metadata": {},
   "outputs": [
    {
     "data": {
      "text/plain": [
       "25"
      ]
     },
     "execution_count": 13,
     "metadata": {},
     "output_type": "execute_result"
    }
   ],
   "source": [
    "int(float_variable)"
   ]
  },
  {
   "cell_type": "code",
   "execution_count": 14,
   "id": "bce9fc41-6409-4852-88c1-c9fb8ee957c1",
   "metadata": {},
   "outputs": [
    {
     "data": {
      "text/plain": [
       "25.0"
      ]
     },
     "execution_count": 14,
     "metadata": {},
     "output_type": "execute_result"
    }
   ],
   "source": [
    "float(integer_variable)"
   ]
  },
  {
   "cell_type": "code",
   "execution_count": 15,
   "id": "8e4f8495-2434-4fe3-acdb-9a558667d716",
   "metadata": {},
   "outputs": [
    {
     "data": {
      "text/plain": [
       "'25.23'"
      ]
     },
     "execution_count": 15,
     "metadata": {},
     "output_type": "execute_result"
    }
   ],
   "source": [
    "str(float_variable)"
   ]
  },
  {
   "cell_type": "code",
   "execution_count": 20,
   "id": "4e721ec6-efe0-4dc0-be97-7cdfa7ea4d9e",
   "metadata": {},
   "outputs": [
    {
     "data": {
      "text/plain": [
       "1.2"
      ]
     },
     "execution_count": 20,
     "metadata": {},
     "output_type": "execute_result"
    }
   ],
   "source": [
    "float('1.2') # converting string to float"
   ]
  },
  {
   "cell_type": "code",
   "execution_count": 24,
   "id": "4ea7f173-d243-4b3f-8055-a7423f0af592",
   "metadata": {},
   "outputs": [],
   "source": [
    "# float('University of Calgary')"
   ]
  },
  {
   "cell_type": "markdown",
   "id": "5a2a5c29-37e6-4fb2-95fe-bbf478f6c2a3",
   "metadata": {},
   "source": [
    "float(<non-numeric_string>): In this case, you are attempting to convert the string \"University of Calgary\" to a floating-point number. However, \"University of Calgary\" is not a valid representation of a number, and converting from a non-numeric string to a floating-point number is impossible. Therefore, Python raises an error to indicate that the conversion is invalid."
   ]
  },
  {
   "cell_type": "markdown",
   "id": "1f01c82d-19f8-4d29-bbe3-d88e9dd9fb10",
   "metadata": {},
   "source": [
    "## Using variables from other codes or modules"
   ]
  },
  {
   "cell_type": "code",
   "execution_count": 29,
   "id": "29be5137-ef7b-4f99-86d2-acc0b2a176b5",
   "metadata": {},
   "outputs": [
    {
     "name": "stdout",
     "output_type": "stream",
     "text": [
      "3.141592653589793\n"
     ]
    }
   ],
   "source": [
    "import math\n",
    "PI = math.pi\n",
    "\n",
    "print(PI)"
   ]
  },
  {
   "cell_type": "code",
   "execution_count": 32,
   "id": "d58a1797-6fa2-456b-af47-8ede4e11a831",
   "metadata": {},
   "outputs": [
    {
     "name": "stdout",
     "output_type": "stream",
     "text": [
      "2\n"
     ]
    }
   ],
   "source": [
    "print(math.floor(2.2))"
   ]
  },
  {
   "cell_type": "code",
   "execution_count": 35,
   "id": "6975495d-c8cb-4083-aab5-49d4be7c0702",
   "metadata": {},
   "outputs": [
    {
     "name": "stdout",
     "output_type": "stream",
     "text": [
      "4\n"
     ]
    }
   ],
   "source": [
    "print(math.ceil(3.7))"
   ]
  },
  {
   "cell_type": "code",
   "execution_count": null,
   "id": "b594def3-bddf-4f35-bb2f-b6f4e966acf4",
   "metadata": {},
   "outputs": [],
   "source": []
  }
 ],
 "metadata": {
  "kernelspec": {
   "display_name": "Python 3 (ipykernel)",
   "language": "python",
   "name": "python3"
  },
  "language_info": {
   "codemirror_mode": {
    "name": "ipython",
    "version": 3
   },
   "file_extension": ".py",
   "mimetype": "text/x-python",
   "name": "python",
   "nbconvert_exporter": "python",
   "pygments_lexer": "ipython3",
   "version": "3.11.4"
  }
 },
 "nbformat": 4,
 "nbformat_minor": 5
}
