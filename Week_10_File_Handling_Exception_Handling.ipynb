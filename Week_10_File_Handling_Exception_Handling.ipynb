{
 "cells": [
  {
   "cell_type": "markdown",
   "id": "953bc4a0",
   "metadata": {},
   "source": [
    "# File handiling in Python"
   ]
  },
  {
   "cell_type": "code",
   "execution_count": 1,
   "id": "9d175550",
   "metadata": {},
   "outputs": [],
   "source": [
    "filePath = \"file.txt\"\n",
    "fileHandler = open(filePath, 'r')"
   ]
  },
  {
   "cell_type": "markdown",
   "id": "a8d2f905",
   "metadata": {},
   "source": [
    "File handler is like a cursor, which defines from where the data need to be read or written in the file. This pointer, initially, points at the beginning of the opened file."
   ]
  },
  {
   "cell_type": "code",
   "execution_count": 2,
   "id": "4ed978b4",
   "metadata": {},
   "outputs": [
    {
     "name": "stdout",
     "output_type": "stream",
     "text": [
      "Current position: 0\n"
     ]
    }
   ],
   "source": [
    "print('Current position: %d' %fileHandler.tell())"
   ]
  },
  {
   "cell_type": "markdown",
   "id": "0bf2a81a",
   "metadata": {},
   "source": [
    "After reading a character from the file, the cursor position will change"
   ]
  },
  {
   "cell_type": "code",
   "execution_count": 3,
   "id": "cc836fda",
   "metadata": {},
   "outputs": [
    {
     "name": "stdout",
     "output_type": "stream",
     "text": [
      "read: h\n",
      "Current position: 1\n"
     ]
    }
   ],
   "source": [
    "print('read: %s' %fileHandler.read(1))\n",
    "print('Current position: %d' %fileHandler.tell())"
   ]
  },
  {
   "cell_type": "code",
   "execution_count": 4,
   "id": "8cb9cbbf",
   "metadata": {},
   "outputs": [
    {
     "name": "stdout",
     "output_type": "stream",
     "text": [
      "readline: ello, this is a sample text file. this file contains random texts.\n",
      "\n",
      "Current position: 69\n"
     ]
    }
   ],
   "source": [
    "print('readline: %s' %fileHandler.readline())\n",
    "print('Current position: %d' %fileHandler.tell())"
   ]
  },
  {
   "cell_type": "code",
   "execution_count": 5,
   "id": "ce0dea88",
   "metadata": {},
   "outputs": [
    {
     "name": "stdout",
     "output_type": "stream",
     "text": [
      "readline: ['After opening the file, we read the texts line-by-line. As each line has been printed, the file is closed.\\n', 'This is the end of the file!\\n', 'hello, this is a sample text file. this file contains random texts.\\n', 'After opening the file, we read the texts line-by-line. As each line has been printed, the file is closed.\\n', 'This is the end of the file!\\n', 'hello, this is a sample text file. this file contains random texts.\\n', 'After opening the file, we read the texts line-by-line. As each line has been printed, the file is closed.\\n', 'This is the end of the file!\\n', 'hello, this is a sample text file. this file contains random texts.\\n', 'After opening the file, we read the texts line-by-line. As each line has been printed, the file is closed.\\n', 'This is the end of the file!\\n', 'hello, this is a sample text file. this file contains random texts.\\n', 'After opening the file, we read the texts line-by-line. As each line has been printed, the file is closed.\\n', 'This is the end of the file!\\n', 'hello, this is a sample text file. this file contains random texts.\\n', 'After opening the file, we read the texts line-by-line. As each line has been printed, the file is closed.\\n', 'This is the end of the file!']\n",
      "Current position: 1240\n"
     ]
    }
   ],
   "source": [
    "print('readline: %s' %fileHandler.readlines())\n",
    "print('Current position: %d' %fileHandler.tell())"
   ]
  },
  {
   "cell_type": "markdown",
   "id": "2a3c995d",
   "metadata": {},
   "source": [
    "In Python, we can use seek(offset, whence) function to change the position of the File Handle to a given specific position."
   ]
  },
  {
   "cell_type": "code",
   "execution_count": 7,
   "id": "e32a32be",
   "metadata": {},
   "outputs": [
    {
     "name": "stdout",
     "output_type": "stream",
     "text": [
      "Current position: 0\n"
     ]
    }
   ],
   "source": [
    "fileHandler.seek(0)\n",
    "print('Current position: %d' %fileHandler.tell())"
   ]
  },
  {
   "cell_type": "markdown",
   "id": "02f90160",
   "metadata": {},
   "source": [
    "Since the 2nd parameter (whence) in the seek() function is 0, the following code moves the cursor 10 characters (offset) from the beginning, and then reads the next 5 characters."
   ]
  },
  {
   "cell_type": "code",
   "execution_count": 8,
   "id": "df9d14cf",
   "metadata": {},
   "outputs": [
    {
     "name": "stdout",
     "output_type": "stream",
     "text": [
      "Current position (moves 10 bytes from the beginning): 10\n",
      "s is \n",
      "Current position: 15\n"
     ]
    }
   ],
   "source": [
    "fileHandler.seek(10, 0)\n",
    "print('Current position (moves 10 bytes from the beginning): %d' %fileHandler.tell())\n",
    "data = fileHandler.read(5)\n",
    "print(data)\n",
    "print('Current position: %d' %fileHandler.tell())"
   ]
  },
  {
   "cell_type": "markdown",
   "id": "672b7865",
   "metadata": {},
   "source": [
    "# Reading from a Text File\n",
    "\n",
    "Consider the file \"inputFile.txt\". Each row consists of a 2 character long student ID, and a 4-character long student name.\n",
    "Retrieve the ID and name of the third student."
   ]
  },
  {
   "cell_type": "code",
   "execution_count": 10,
   "id": "ddeb7296",
   "metadata": {},
   "outputs": [
    {
     "name": "stdout",
     "output_type": "stream",
     "text": [
      "ID: 03, Name: Pham\n"
     ]
    }
   ],
   "source": [
    "filePath = 'inputFile.txt'\n",
    "fileHandler = open(filePath)\n",
    "\n",
    "for counter in range(3): #skip the first 3 lines\n",
    "    #print(fileHandler.readline())\n",
    "    fileHandler.readline()\n",
    "\n",
    "s_id = fileHandler.read(2)\n",
    "fileHandler.read(1) # skip a space\n",
    "s_name = fileHandler.read(4)\n",
    "\n",
    "print(\"ID: %s, Name: %s\" %(s_id, s_name))\n"
   ]
  },
  {
   "cell_type": "markdown",
   "id": "abed1081",
   "metadata": {},
   "source": [
    "# Writing to a File\n",
    "file.write() and file.writelines() functions"
   ]
  },
  {
   "cell_type": "code",
   "execution_count": 11,
   "id": "094a0721",
   "metadata": {},
   "outputs": [
    {
     "name": "stdout",
     "output_type": "stream",
     "text": [
      "Enter the name of the employee: Mario\n",
      "Enter the name of the employee: Richard\n",
      "Enter the name of the employee: Jonathan\n",
      "Data is written into the file.\n"
     ]
    }
   ],
   "source": [
    "file = open(\"Employees.txt\", \"w\") \n",
    "\n",
    "# Example 1  \n",
    "for i in range(3): \n",
    "   name = input(\"Enter the name of the employee: \") \n",
    "   file.write(name) \n",
    "   file.write(\"\\n\") \n",
    "     \n",
    "file.close() \n",
    "  \n",
    "print(\"Data is written into the file.\")"
   ]
  },
  {
   "cell_type": "code",
   "execution_count": 12,
   "id": "f62534d3",
   "metadata": {},
   "outputs": [
    {
     "name": "stdout",
     "output_type": "stream",
     "text": [
      "Enter the name of the country: Canada\n",
      "Enter the name of the country: USA\n",
      "Enter the name of the country: France\n",
      "Data is written into the file.\n"
     ]
    }
   ],
   "source": [
    "# Example 2\n",
    "\n",
    "file1 = open(\"Countries.txt\", \"w\") \n",
    "lst = [] \n",
    "for i in range(3): \n",
    "    name = input(\"Enter the name of the country: \") \n",
    "    lst.append(name + '\\n') \n",
    "      \n",
    "file1.writelines(lst) \n",
    "file1.close() \n",
    "print(\"Data is written into the file.\")  "
   ]
  },
  {
   "cell_type": "markdown",
   "id": "67c3f708",
   "metadata": {},
   "source": [
    "# Exception Handling\n",
    "Runtime Errors are also referred to as Exceptions. An exception is an event that occurs during the execution of a program, which disrupts its execution.\n",
    "\n",
    "Some examples: \n",
    "1. trying to access a list with an invalid index \n",
    "2. trying to open a non-existent ﬁle \n",
    "3. trying to parse a string using an invalid character \n",
    "4. trying to converting an invalid string to an integer \n",
    "\n",
    "Exceptions can be handled is several ways:\n",
    "1. Using conditionals (if-elif-else): the code handles scenarios where errors may occur.\n",
    "2. Using try/except blocks: placing code that may fail within a try/except block."
   ]
  },
  {
   "cell_type": "code",
   "execution_count": 13,
   "id": "1db606a5",
   "metadata": {},
   "outputs": [
    {
     "ename": "FileNotFoundError",
     "evalue": "[Errno 2] No such file or directory: 'nofile'",
     "output_type": "error",
     "traceback": [
      "\u001b[1;31m---------------------------------------------------------------------------\u001b[0m",
      "\u001b[1;31mFileNotFoundError\u001b[0m                         Traceback (most recent call last)",
      "\u001b[1;32m~\\AppData\\Local\\Temp/ipykernel_26484/4205661685.py\u001b[0m in \u001b[0;36m<module>\u001b[1;34m\u001b[0m\n\u001b[1;32m----> 1\u001b[1;33m \u001b[0mfileHandler\u001b[0m \u001b[1;33m=\u001b[0m \u001b[0mopen\u001b[0m\u001b[1;33m(\u001b[0m\u001b[1;34m'nofile'\u001b[0m\u001b[1;33m)\u001b[0m\u001b[1;33m\u001b[0m\u001b[1;33m\u001b[0m\u001b[0m\n\u001b[0m\u001b[0;32m      2\u001b[0m \u001b[0mprint\u001b[0m\u001b[1;33m(\u001b[0m\u001b[1;34m\"File does not exist\"\u001b[0m\u001b[1;33m)\u001b[0m\u001b[1;33m\u001b[0m\u001b[1;33m\u001b[0m\u001b[0m\n",
      "\u001b[1;31mFileNotFoundError\u001b[0m: [Errno 2] No such file or directory: 'nofile'"
     ]
    }
   ],
   "source": [
    "fileHandler = open('nofile')\n",
    "print(\"File does not exist\")"
   ]
  },
  {
   "cell_type": "markdown",
   "id": "2436a129",
   "metadata": {},
   "source": [
    "To avoid such error, at first, we can check whether the file exists or not."
   ]
  },
  {
   "cell_type": "code",
   "execution_count": 16,
   "id": "cfb3518f",
   "metadata": {},
   "outputs": [
    {
     "name": "stdout",
     "output_type": "stream",
     "text": [
      "File does not exist\n"
     ]
    }
   ],
   "source": [
    "import os\n",
    "\n",
    "if os.path.exists('nofile'):\n",
    "    fileHandler = open('nofile')\n",
    "else:\n",
    "    print('File does not exist')"
   ]
  },
  {
   "cell_type": "markdown",
   "id": "49a2e598",
   "metadata": {},
   "source": [
    "Alternative to if-else: try/except"
   ]
  },
  {
   "cell_type": "code",
   "execution_count": 75,
   "id": "8cd5a47d",
   "metadata": {},
   "outputs": [
    {
     "name": "stdout",
     "output_type": "stream",
     "text": [
      "File does not exit!\n"
     ]
    }
   ],
   "source": [
    "try:\n",
    "    # <code segment that may cause error>\n",
    "    fileHandler = open('nofile')\n",
    "except:\n",
    "    # <action to take when an exception occurs>\n",
    "    print('File does not exit!')"
   ]
  },
  {
   "cell_type": "markdown",
   "id": "4adaeb82",
   "metadata": {},
   "source": [
    "## More examples of exception handling"
   ]
  },
  {
   "cell_type": "code",
   "execution_count": 21,
   "id": "752ef235",
   "metadata": {},
   "outputs": [
    {
     "ename": "NameError",
     "evalue": "name 'b' is not defined",
     "output_type": "error",
     "traceback": [
      "\u001b[1;31m---------------------------------------------------------------------------\u001b[0m",
      "\u001b[1;31mNameError\u001b[0m                                 Traceback (most recent call last)",
      "\u001b[1;32m~\\AppData\\Local\\Temp/ipykernel_26484/4291063575.py\u001b[0m in \u001b[0;36m<module>\u001b[1;34m\u001b[0m\n\u001b[1;32m----> 1\u001b[1;33m \u001b[0ma\u001b[0m \u001b[1;33m=\u001b[0m \u001b[0mb\u001b[0m\u001b[1;33m\u001b[0m\u001b[1;33m\u001b[0m\u001b[0m\n\u001b[0m",
      "\u001b[1;31mNameError\u001b[0m: name 'b' is not defined"
     ]
    }
   ],
   "source": [
    "a = b"
   ]
  },
  {
   "cell_type": "markdown",
   "id": "eada53f2",
   "metadata": {},
   "source": [
    "The above code is raising a NameError"
   ]
  },
  {
   "cell_type": "code",
   "execution_count": 22,
   "id": "6163af2b",
   "metadata": {},
   "outputs": [
    {
     "name": "stdout",
     "output_type": "stream",
     "text": [
      "Name error occured\n"
     ]
    }
   ],
   "source": [
    "try:\n",
    "    a = b\n",
    "except NameError:\n",
    "    print('Name error occured')"
   ]
  },
  {
   "cell_type": "code",
   "execution_count": 24,
   "id": "168d1e35",
   "metadata": {},
   "outputs": [
    {
     "ename": "TypeError",
     "evalue": "unsupported operand type(s) for +: 'int' and 'str'",
     "output_type": "error",
     "traceback": [
      "\u001b[1;31m---------------------------------------------------------------------------\u001b[0m",
      "\u001b[1;31mTypeError\u001b[0m                                 Traceback (most recent call last)",
      "\u001b[1;32m~\\AppData\\Local\\Temp/ipykernel_26484/457591081.py\u001b[0m in \u001b[0;36m<module>\u001b[1;34m\u001b[0m\n\u001b[0;32m      1\u001b[0m \u001b[0ma\u001b[0m \u001b[1;33m=\u001b[0m \u001b[1;36m1\u001b[0m\u001b[1;33m\u001b[0m\u001b[1;33m\u001b[0m\u001b[0m\n\u001b[0;32m      2\u001b[0m \u001b[0mb\u001b[0m \u001b[1;33m=\u001b[0m \u001b[1;34m'string'\u001b[0m\u001b[1;33m\u001b[0m\u001b[1;33m\u001b[0m\u001b[0m\n\u001b[1;32m----> 3\u001b[1;33m \u001b[0mc\u001b[0m \u001b[1;33m=\u001b[0m \u001b[0ma\u001b[0m\u001b[1;33m+\u001b[0m\u001b[0mb\u001b[0m\u001b[1;33m\u001b[0m\u001b[1;33m\u001b[0m\u001b[0m\n\u001b[0m",
      "\u001b[1;31mTypeError\u001b[0m: unsupported operand type(s) for +: 'int' and 'str'"
     ]
    }
   ],
   "source": [
    "a = 1\n",
    "b = 'string'\n",
    "c = a+b"
   ]
  },
  {
   "cell_type": "code",
   "execution_count": 25,
   "id": "e52621c5",
   "metadata": {},
   "outputs": [
    {
     "name": "stdout",
     "output_type": "stream",
     "text": [
      "Type error occured\n"
     ]
    }
   ],
   "source": [
    "try:\n",
    "    a = 1\n",
    "    b = 'string'\n",
    "    c = a+b\n",
    "except TypeError:\n",
    "    print('Type error occured')"
   ]
  },
  {
   "cell_type": "code",
   "execution_count": 28,
   "id": "e5410854",
   "metadata": {},
   "outputs": [
    {
     "name": "stdout",
     "output_type": "stream",
     "text": [
      "Enter first number: 10\n",
      "Enter second number: 0\n"
     ]
    },
    {
     "ename": "ZeroDivisionError",
     "evalue": "division by zero",
     "output_type": "error",
     "traceback": [
      "\u001b[1;31m---------------------------------------------------------------------------\u001b[0m",
      "\u001b[1;31mZeroDivisionError\u001b[0m                         Traceback (most recent call last)",
      "\u001b[1;32m~\\AppData\\Local\\Temp/ipykernel_26484/1940575994.py\u001b[0m in \u001b[0;36m<module>\u001b[1;34m\u001b[0m\n\u001b[0;32m      2\u001b[0m \u001b[0mb\u001b[0m \u001b[1;33m=\u001b[0m \u001b[0mint\u001b[0m\u001b[1;33m(\u001b[0m\u001b[0minput\u001b[0m\u001b[1;33m(\u001b[0m\u001b[1;34m'Enter second number: '\u001b[0m\u001b[1;33m)\u001b[0m\u001b[1;33m)\u001b[0m\u001b[1;33m\u001b[0m\u001b[1;33m\u001b[0m\u001b[0m\n\u001b[0;32m      3\u001b[0m \u001b[1;33m\u001b[0m\u001b[0m\n\u001b[1;32m----> 4\u001b[1;33m \u001b[0mc\u001b[0m \u001b[1;33m=\u001b[0m \u001b[0ma\u001b[0m\u001b[1;33m/\u001b[0m\u001b[0mb\u001b[0m\u001b[1;33m\u001b[0m\u001b[1;33m\u001b[0m\u001b[0m\n\u001b[0m\u001b[0;32m      5\u001b[0m \u001b[1;33m\u001b[0m\u001b[0m\n\u001b[0;32m      6\u001b[0m \u001b[0mprint\u001b[0m\u001b[1;33m(\u001b[0m\u001b[0mc\u001b[0m\u001b[1;33m)\u001b[0m\u001b[1;33m\u001b[0m\u001b[1;33m\u001b[0m\u001b[0m\n",
      "\u001b[1;31mZeroDivisionError\u001b[0m: division by zero"
     ]
    }
   ],
   "source": [
    "a = int(input('Enter first number: '))\n",
    "b = int(input('Enter second number: '))\n",
    "\n",
    "c = a/b\n",
    "\n",
    "print(c)"
   ]
  },
  {
   "cell_type": "code",
   "execution_count": 30,
   "id": "e538b433",
   "metadata": {},
   "outputs": [
    {
     "name": "stdout",
     "output_type": "stream",
     "text": [
      "Enter first number: 10\n",
      "Enter second number: 0\n",
      "The second number must be non-zero integer\n"
     ]
    }
   ],
   "source": [
    "try:\n",
    "    a = int(input('Enter first number: '))\n",
    "    b = int(input('Enter second number: '))\n",
    "    c = a/b\n",
    "except ZeroDivisionError:\n",
    "    print('The second number must be non-zero integer')"
   ]
  },
  {
   "cell_type": "markdown",
   "id": "006eabb0",
   "metadata": {},
   "source": [
    "### Multiple Exceptions"
   ]
  },
  {
   "cell_type": "code",
   "execution_count": 31,
   "id": "875f34f1",
   "metadata": {},
   "outputs": [
    {
     "ename": "ValueError",
     "evalue": "invalid literal for int() with base 10: 'abc'",
     "output_type": "error",
     "traceback": [
      "\u001b[1;31m---------------------------------------------------------------------------\u001b[0m",
      "\u001b[1;31mValueError\u001b[0m                                Traceback (most recent call last)",
      "\u001b[1;32m~\\AppData\\Local\\Temp/ipykernel_26484/186767990.py\u001b[0m in \u001b[0;36m<module>\u001b[1;34m\u001b[0m\n\u001b[1;32m----> 1\u001b[1;33m \u001b[0mint\u001b[0m\u001b[1;33m(\u001b[0m\u001b[1;34m'abc'\u001b[0m\u001b[1;33m)\u001b[0m\u001b[1;33m\u001b[0m\u001b[1;33m\u001b[0m\u001b[0m\n\u001b[0m",
      "\u001b[1;31mValueError\u001b[0m: invalid literal for int() with base 10: 'abc'"
     ]
    }
   ],
   "source": [
    "int('abc')"
   ]
  },
  {
   "cell_type": "code",
   "execution_count": 76,
   "id": "71940078",
   "metadata": {},
   "outputs": [
    {
     "ename": "IndexError",
     "evalue": "list index out of range",
     "output_type": "error",
     "traceback": [
      "\u001b[1;31m---------------------------------------------------------------------------\u001b[0m",
      "\u001b[1;31mIndexError\u001b[0m                                Traceback (most recent call last)",
      "\u001b[1;32m~\\AppData\\Local\\Temp/ipykernel_26484/3393153689.py\u001b[0m in \u001b[0;36m<module>\u001b[1;34m\u001b[0m\n\u001b[0;32m      1\u001b[0m \u001b[0maList\u001b[0m \u001b[1;33m=\u001b[0m \u001b[1;33m[\u001b[0m\u001b[1;36m10\u001b[0m\u001b[1;33m,\u001b[0m \u001b[1;36m20\u001b[0m\u001b[1;33m,\u001b[0m \u001b[1;36m30\u001b[0m\u001b[1;33m,\u001b[0m \u001b[1;36m40\u001b[0m\u001b[1;33m,\u001b[0m \u001b[1;36m50\u001b[0m\u001b[1;33m]\u001b[0m\u001b[1;33m\u001b[0m\u001b[1;33m\u001b[0m\u001b[0m\n\u001b[1;32m----> 2\u001b[1;33m \u001b[0mprint\u001b[0m\u001b[1;33m(\u001b[0m\u001b[0maList\u001b[0m\u001b[1;33m[\u001b[0m\u001b[1;36m100\u001b[0m\u001b[1;33m]\u001b[0m\u001b[1;33m)\u001b[0m\u001b[1;33m\u001b[0m\u001b[1;33m\u001b[0m\u001b[0m\n\u001b[0m",
      "\u001b[1;31mIndexError\u001b[0m: list index out of range"
     ]
    }
   ],
   "source": [
    "aList = [10, 20, 30, 40, 50]\n",
    "print(aList[100])"
   ]
  },
  {
   "cell_type": "code",
   "execution_count": 2,
   "id": "403a3907",
   "metadata": {},
   "outputs": [
    {
     "name": "stdout",
     "output_type": "stream",
     "text": [
      "Enter first number: 100\n",
      "Enter second number: 20\n",
      "Enter a word: calgary\n",
      "List index out of range\n"
     ]
    }
   ],
   "source": [
    "a = int(input('Enter first number: '))\n",
    "b = int(input('Enter second number: '))\n",
    "c = input('Enter a word: ')\n",
    "aList = [10, 20, 30, 40, 50]\n",
    "\n",
    "try:\n",
    "    print(aList[10])\n",
    "    result_1 = a/b\n",
    "    result_2 = b+c\n",
    "    result_3 = int(c)\n",
    "    \n",
    "except ZeroDivisionError:\n",
    "    print('The second number must be non-zero integer')\n",
    "except TypeError:\n",
    "    print(\"Unsupported operand type(s) for +: 'int' and 'str'\")\n",
    "except ValueError:\n",
    "    print(\"Please pass correct data type to the int() function\")\n",
    "except IndexError:\n",
    "    print('List index out of range')\n",
    "except: # this will handle any other exception\n",
    "    print(\"Something else went wrong!\")"
   ]
  },
  {
   "cell_type": "markdown",
   "id": "a8749709",
   "metadata": {},
   "source": [
    "Another way of handling all the exceptions together is as follows:"
   ]
  },
  {
   "cell_type": "code",
   "execution_count": 46,
   "id": "7586638b",
   "metadata": {},
   "outputs": [
    {
     "name": "stdout",
     "output_type": "stream",
     "text": [
      "Enter first number: 10\n",
      "Enter second number: 0\n",
      "Enter a word: string\n",
      "Exception raised\n"
     ]
    }
   ],
   "source": [
    "a = int(input('Enter first number: '))\n",
    "b = int(input('Enter second number: '))\n",
    "c = input('Enter a word: ')\n",
    "aList = [10, 20, 30, 40, 50]\n",
    "\n",
    "try:\n",
    "    print(aList[10])\n",
    "    result_1 = a/b\n",
    "    result_2 = b+c\n",
    "    result_3 = int(c)\n",
    "    \n",
    "except (ZeroDivisionError, TypeError, ValueError, IndexError):\n",
    "    print('Exception raised')"
   ]
  },
  {
   "cell_type": "markdown",
   "id": "b5e67fda",
   "metadata": {},
   "source": [
    "## try-except-else-finally"
   ]
  },
  {
   "cell_type": "code",
   "execution_count": 51,
   "id": "593fce7a",
   "metadata": {},
   "outputs": [
    {
     "name": "stdout",
     "output_type": "stream",
     "text": [
      "Enter the number 1: cpsc\n",
      "Something else went wrong\n",
      "The execution is done!\n"
     ]
    }
   ],
   "source": [
    "try:\n",
    "    a = int(input('Enter the number 1: '))\n",
    "    b = int(input('Enter the number 2: '))\n",
    "    c = a/b\n",
    "    d = a*b\n",
    "    e = a+b\n",
    "    \n",
    "except NameError:\n",
    "    print('The user has not defined the variable')\n",
    "except ZeroDivisionError:\n",
    "    print('Please provide number greater than 0')\n",
    "except TypeError:\n",
    "    print('Try to make the datatype similar')\n",
    "except:\n",
    "    print('Something else went wrong')\n",
    "    \n",
    "# if no exception occurs, the else block will be executed\n",
    "else: \n",
    "    print(c)\n",
    "    print(d)\n",
    "    print(e)\n",
    "\n",
    "# finally block will always execute\n",
    "finally:\n",
    "    print('The execution is done!')"
   ]
  },
  {
   "cell_type": "code",
   "execution_count": 71,
   "id": "a606e27e",
   "metadata": {},
   "outputs": [],
   "source": [
    "def reverseLines(inFilename, outFilename):\n",
    "    try:\n",
    "        inFile = open(inFilename, 'r')\n",
    "        outFile = open(outFilename, 'w')\n",
    "        \n",
    "        for line in inFile:\n",
    "            line = line.rstrip()\n",
    "            outFile.write(line[::-1] + '\\n')\n",
    "            \n",
    "    except IOError:\n",
    "            print('Encountered problem')\n",
    "            \n",
    "    finally:\n",
    "            inFile.close()\n",
    "            outFile.close()\n",
    "            \n",
    "reverseLines('employees.txt', 'reverse.txt')"
   ]
  },
  {
   "cell_type": "code",
   "execution_count": 72,
   "id": "6773a252",
   "metadata": {},
   "outputs": [
    {
     "name": "stdout",
     "output_type": "stream",
     "text": [
      "Length before applying rstrip(): 7\n",
      "Length after applying rstrip(): 5\n",
      "olleH\n"
     ]
    }
   ],
   "source": [
    "line = \"Hello  \"\n",
    "print('Length before applying rstrip():', len(line))\n",
    "\n",
    "line = line.rstrip()\n",
    "print('Length after applying rstrip():', len(line))\n",
    "\n",
    "# The [::-1] slice notation means to start from the end and \n",
    "# move backward with a step of -1, effectively reversing the string\n",
    "# Starting Index: Not specified (defaults to the beginning of the sequence).\n",
    "# Ending Index: Not specified (defaults to the end of the sequence).\n",
    "# Step Size: -1, indicating a reverse order.\n",
    "\n",
    "reversed_line = line[::-1]\n",
    "print(reversed_line)"
   ]
  },
  {
   "cell_type": "code",
   "execution_count": null,
   "id": "dfabf715",
   "metadata": {},
   "outputs": [],
   "source": []
  }
 ],
 "metadata": {
  "kernelspec": {
   "display_name": "Python 3 (ipykernel)",
   "language": "python",
   "name": "python3"
  },
  "language_info": {
   "codemirror_mode": {
    "name": "ipython",
    "version": 3
   },
   "file_extension": ".py",
   "mimetype": "text/x-python",
   "name": "python",
   "nbconvert_exporter": "python",
   "pygments_lexer": "ipython3",
   "version": "3.9.7"
  }
 },
 "nbformat": 4,
 "nbformat_minor": 5
}
