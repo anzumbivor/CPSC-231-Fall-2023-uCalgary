{
 "cells": [
  {
   "cell_type": "code",
   "execution_count": 1,
   "id": "17f2db43-5a12-4ac5-895c-f7c74d85090f",
   "metadata": {},
   "outputs": [
    {
     "name": "stdout",
     "output_type": "stream",
     "text": [
      "What is the name the author of this notebook?\n",
      "Fahim Anzum\n",
      "Author's Name: Fahim Anzum\n"
     ]
    }
   ],
   "source": [
    "print(\"What is the name the author of this notebook?\")\n",
    "author_name = input()\n",
    "print(\"Author's Name:\", author_name)"
   ]
  },
  {
   "cell_type": "markdown",
   "id": "a696ed8e-9ac8-402c-8ce1-63cb62c7a3f9",
   "metadata": {},
   "source": [
    "# Combining the print() and input()"
   ]
  },
  {
   "cell_type": "code",
   "execution_count": 2,
   "id": "50a95575",
   "metadata": {},
   "outputs": [
    {
     "name": "stdout",
     "output_type": "stream",
     "text": [
      "What is the name the author of this notebook?Fahim Anzum\n",
      "Author's Name: Fahim Anzum\n"
     ]
    }
   ],
   "source": [
    "author_name = input(\"What is the name the author of this notebook?\")\n",
    "print(\"Author's Name:\", author_name)"
   ]
  },
  {
   "cell_type": "markdown",
   "id": "b2b7042b-ddf1-49e1-8214-6c9282c00107",
   "metadata": {},
   "source": [
    "## input() is always a string type data, even if the user inputs some numbers."
   ]
  },
  {
   "cell_type": "code",
   "execution_count": 2,
   "id": "4fff2ca0-135b-4a7e-85ba-0bd3230b9ac0",
   "metadata": {},
   "outputs": [
    {
     "name": "stdout",
     "output_type": "stream",
     "text": [
      "Enter the radius of the circle:4.3\n",
      "<class 'str'>\n"
     ]
    }
   ],
   "source": [
    "radius = input(\"Enter the radius of the circle:\")\n",
    "print(type(radius))"
   ]
  },
  {
   "cell_type": "code",
   "execution_count": 3,
   "id": "b3d160de-1418-4a3b-bc2f-36028dde0eaa",
   "metadata": {},
   "outputs": [
    {
     "name": "stdout",
     "output_type": "stream",
     "text": [
      "Enter the radius of the circle:3.2\n",
      "Area of the circle: 32.169984\n",
      "Enter the radius of the circle:3\n",
      "Area of the circle: 28.2744\n"
     ]
    }
   ],
   "source": [
    "# We need to convert it as needed\n",
    "# Assume we want to calculate the area of a circle: area = PI * radius * radius\n",
    "\n",
    "PI = 3.1416\n",
    "\n",
    "# Method 1\n",
    "radius = input(\"Enter the radius of the circle:\")\n",
    "area = PI * float(radius) * float(radius)\n",
    "print(\"Area of the circle:\", area)\n",
    "\n",
    "# Method 2\n",
    "radius = float(input(\"Enter the radius of the circle:\"))\n",
    "area = PI * radius * radius\n",
    "print(\"Area of the circle:\", area)"
   ]
  },
  {
   "cell_type": "markdown",
   "id": "b9f55d84-f36e-4294-b9f0-3ef6bad973eb",
   "metadata": {},
   "source": [
    "# Type Casting: Conversion between data types"
   ]
  },
  {
   "cell_type": "code",
   "execution_count": 4,
   "id": "e694a5c8-f66a-496c-871e-9755ec7ad0a4",
   "metadata": {},
   "outputs": [
    {
     "data": {
      "text/plain": [
       "1"
      ]
     },
     "execution_count": 4,
     "metadata": {},
     "output_type": "execute_result"
    }
   ],
   "source": [
    "int(\"1\")"
   ]
  },
  {
   "cell_type": "code",
   "execution_count": 5,
   "id": "2ef127fc-7fa1-4d42-b9ab-0202b239d4b6",
   "metadata": {},
   "outputs": [
    {
     "data": {
      "text/plain": [
       "'1'"
      ]
     },
     "execution_count": 5,
     "metadata": {},
     "output_type": "execute_result"
    }
   ],
   "source": [
    "str(1)"
   ]
  },
  {
   "cell_type": "code",
   "execution_count": 6,
   "id": "b89a5864-fe1e-413c-8e39-df6ae186ffcb",
   "metadata": {},
   "outputs": [
    {
     "data": {
      "text/plain": [
       "1.0"
      ]
     },
     "execution_count": 6,
     "metadata": {},
     "output_type": "execute_result"
    }
   ],
   "source": [
    "float('1.0')"
   ]
  },
  {
   "cell_type": "code",
   "execution_count": 7,
   "id": "1ea412be-b814-4b2f-a0b8-4a401d882e5e",
   "metadata": {},
   "outputs": [
    {
     "ename": "ValueError",
     "evalue": "invalid literal for int() with base 10: '1.5'",
     "output_type": "error",
     "traceback": [
      "\u001b[1;31m---------------------------------------------------------------------------\u001b[0m",
      "\u001b[1;31mValueError\u001b[0m                                Traceback (most recent call last)",
      "\u001b[1;32m~\\AppData\\Local\\Temp/ipykernel_6664/3878572495.py\u001b[0m in \u001b[0;36m<module>\u001b[1;34m\u001b[0m\n\u001b[1;32m----> 1\u001b[1;33m \u001b[0mint\u001b[0m\u001b[1;33m(\u001b[0m\u001b[1;34m'1.5'\u001b[0m\u001b[1;33m)\u001b[0m\u001b[1;33m\u001b[0m\u001b[1;33m\u001b[0m\u001b[0m\n\u001b[0m",
      "\u001b[1;31mValueError\u001b[0m: invalid literal for int() with base 10: '1.5'"
     ]
    }
   ],
   "source": [
    "int('1.5')"
   ]
  },
  {
   "cell_type": "markdown",
   "id": "83f039e2-7675-4aa5-bfc1-a9146874408a",
   "metadata": {},
   "source": [
    "### int('1.5'):\n",
    "\n",
    "When we use int('1.5'), we try to convert the string '1.5' to an integer.\n",
    "The int() function expects a string representing a whole number (integer). In this case, '1.5' is not a whole number; it's a decimal number (a floating-point number) due to the presence of the decimal point.\n",
    "Since int() cannot directly convert a decimal number in string form to an integer, it raises a ValueError to indicate that the conversion is not possible."
   ]
  },
  {
   "cell_type": "code",
   "execution_count": 8,
   "id": "24d7669a-6d88-487b-a0b3-ed094282ea77",
   "metadata": {},
   "outputs": [
    {
     "data": {
      "text/plain": [
       "1.0"
      ]
     },
     "execution_count": 8,
     "metadata": {},
     "output_type": "execute_result"
    }
   ],
   "source": [
    "float('1')"
   ]
  },
  {
   "cell_type": "code",
   "execution_count": 9,
   "id": "2a772643-2232-40cd-bfd3-b7f93febc36b",
   "metadata": {},
   "outputs": [
    {
     "ename": "ValueError",
     "evalue": "could not convert string to float: 'abc'",
     "output_type": "error",
     "traceback": [
      "\u001b[1;31m---------------------------------------------------------------------------\u001b[0m",
      "\u001b[1;31mValueError\u001b[0m                                Traceback (most recent call last)",
      "\u001b[1;32m~\\AppData\\Local\\Temp/ipykernel_6664/3646000741.py\u001b[0m in \u001b[0;36m<module>\u001b[1;34m\u001b[0m\n\u001b[1;32m----> 1\u001b[1;33m \u001b[0mfloat\u001b[0m\u001b[1;33m(\u001b[0m\u001b[1;34m'abc'\u001b[0m\u001b[1;33m)\u001b[0m\u001b[1;33m\u001b[0m\u001b[1;33m\u001b[0m\u001b[0m\n\u001b[0m",
      "\u001b[1;31mValueError\u001b[0m: could not convert string to float: 'abc'"
     ]
    }
   ],
   "source": [
    "float('abc')"
   ]
  },
  {
   "cell_type": "markdown",
   "id": "2f39b2d9-fbd0-40e8-ae5f-0016df970b08",
   "metadata": {},
   "source": [
    "# Formatting Values"
   ]
  },
  {
   "cell_type": "code",
   "execution_count": 10,
   "id": "8fb66fb0-765f-43a8-87ba-1aa4ebe101b2",
   "metadata": {},
   "outputs": [
    {
     "name": "stdout",
     "output_type": "stream",
     "text": [
      "0.3333333333333333\n"
     ]
    }
   ],
   "source": [
    "print(1/3)"
   ]
  },
  {
   "cell_type": "code",
   "execution_count": 11,
   "id": "2b37ea87-005d-4c96-bcb7-3339ab87311d",
   "metadata": {},
   "outputs": [
    {
     "name": "stdout",
     "output_type": "stream",
     "text": [
      "0.33\n"
     ]
    }
   ],
   "source": [
    "print(\"%.2f\" %(1/3))"
   ]
  },
  {
   "cell_type": "code",
   "execution_count": 12,
   "id": "609d0a83-a762-4175-8942-2f00c84aec45",
   "metadata": {},
   "outputs": [
    {
     "name": "stdout",
     "output_type": "stream",
     "text": [
      "pi is  3.14 when rounded to 2 decimal places\n"
     ]
    }
   ],
   "source": [
    "import math\n",
    "print(\"pi is % .2f when rounded to 2 decimal places\" % math.pi)"
   ]
  },
  {
   "cell_type": "code",
   "execution_count": 6,
   "id": "b7af94a9-9b15-4c84-9cec-e01efd901909",
   "metadata": {},
   "outputs": [
    {
     "name": "stdout",
     "output_type": "stream",
     "text": [
      "    3.14\n"
     ]
    }
   ],
   "source": [
    "# Formatting a floating-point number with width and precision\n",
    "PI = 3.141592653589793\n",
    "formatted_pi = \"%8.2f\" % PI  # Minimum width of 8 characters, 2 decimal places\n",
    "print(formatted_pi)  # Output: \"    3.14\""
   ]
  },
  {
   "cell_type": "code",
   "execution_count": 14,
   "id": "5428f0b3-0109-45df-b0bd-5875deb310b2",
   "metadata": {},
   "outputs": [
    {
     "name": "stdout",
     "output_type": "stream",
     "text": [
      "3.14\n",
      " 3.14\n",
      "  3.14\n",
      "   3.14\n"
     ]
    }
   ],
   "source": [
    "print(\"%4.2f\" %PI)\n",
    "print(\"%5.2f\" %PI)\n",
    "print(\"%6.2f\" %PI)\n",
    "print(\"%7.2f\" %PI)"
   ]
  },
  {
   "cell_type": "code",
   "execution_count": 15,
   "id": "cfc566b7-1112-4af8-a995-d5e499886f90",
   "metadata": {},
   "outputs": [
    {
     "name": "stdout",
     "output_type": "stream",
     "text": [
      "3.14\n",
      "03.14\n",
      "003.14\n",
      "0003.14\n"
     ]
    }
   ],
   "source": [
    "print(\"%04.2f\" %PI)\n",
    "print(\"%05.2f\" %PI)\n",
    "print(\"%06.2f\" %PI)\n",
    "print(\"%07.2f\" %PI)"
   ]
  },
  {
   "cell_type": "code",
   "execution_count": null,
   "id": "d01f4be3-f54c-4057-984c-cdaa4add0ea0",
   "metadata": {},
   "outputs": [],
   "source": [
    "\n"
   ]
  },
  {
   "cell_type": "code",
   "execution_count": null,
   "id": "bd7078c6",
   "metadata": {},
   "outputs": [],
   "source": []
  }
 ],
 "metadata": {
  "kernelspec": {
   "display_name": "Python 3 (ipykernel)",
   "language": "python",
   "name": "python3"
  },
  "language_info": {
   "codemirror_mode": {
    "name": "ipython",
    "version": 3
   },
   "file_extension": ".py",
   "mimetype": "text/x-python",
   "name": "python",
   "nbconvert_exporter": "python",
   "pygments_lexer": "ipython3",
   "version": "3.9.7"
  }
 },
 "nbformat": 4,
 "nbformat_minor": 5
}
